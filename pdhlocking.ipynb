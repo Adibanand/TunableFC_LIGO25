{
 "cells": [
  {
   "cell_type": "code",
   "execution_count": 16,
   "id": "fd58b9e1",
   "metadata": {},
   "outputs": [],
   "source": [
    "import numpy as np\n",
    "import matplotlib.pyplot as plt"
   ]
  },
  {
   "cell_type": "markdown",
   "id": "a79e1cd7",
   "metadata": {},
   "source": [
    "# PDH Locking\n",
    "\n",
    "<p align=\"center\">\n",
    "  <img src=\"images/pdhlocking.png\" width=\"500\"/>\n",
    "</p>\n",
    "\n",
    "Systematic and quantitative analysis of residual amplitude modulation in Pound-Drever-Hall frequency stabilization - Scientific Figure on ResearchGate. Available from: https://www.researchgate.net/figure/The-experimental-setup-for-PDH-frequency-locking-P1-and-P2-are-the-polarizers-aligned_fig1_286236886 [accessed 18 Jun 2025]\n",
    "\n",
    "Beam Path: Laser → P1 → EOM → P2 → PBS → λ/4 → MODE MATCHING LENSES → Cavity (flat-concave)\n",
    "\n"
   ]
  },
  {
   "cell_type": "markdown",
   "id": "bf88ad41",
   "metadata": {},
   "source": [
    "## ABCD Matrix and Stability Condition for Planar–Concave Subcavity (M2–M3)\n",
    "\n",
    "We model the section of the cavity between M2 (flat mirror) and M3 (curved mirror) as a planar–concave Fabry–Pérot cavity with length \\( L_2 \\) and M3 radius of curvature \\( R_3 \\).\n",
    "\n",
    "---\n",
    "\n",
    "### ABCD Matrix Derivation\n",
    "\n",
    "We build the round-trip matrix as follows:\n",
    "\n",
    "1. **Forward propagation** through free space of length \\( L_2 \\):\n",
    "\n",
    "$$\n",
    "M_{\\text{prop}}(L_2) =\n",
    "\\begin{bmatrix}\n",
    "1 & L_2 \\\\\n",
    "0 & 1\n",
    "\\end{bmatrix}\n",
    "$$\n",
    "\n",
    "2. **Reflection** off a curved mirror with radius \\( R_3 \\):\n",
    "\n",
    "$$\n",
    "M_{\\text{mirror}}(R_3) =\n",
    "\\begin{bmatrix}\n",
    "1 & 0 \\\\\n",
    "-\\frac{2}{R_3} & 1\n",
    "\\end{bmatrix}\n",
    "$$\n",
    "\n",
    "3. **Backward propagation** over \\( L_2 \\):\n",
    "\n",
    "$$\n",
    "M_{\\text{return}}(L_2) =\n",
    "\\begin{bmatrix}\n",
    "1 & L_2 \\\\\n",
    "0 & 1\n",
    "\\end{bmatrix}\n",
    "$$\n",
    "\n",
    "4. **Total round-trip matrix**:\n",
    "\n",
    "$$\n",
    "M_{\\text{rt}} = M_{\\text{return}} \\cdot M_{\\text{mirror}} \\cdot M_{\\text{prop}} =\n",
    "\\begin{bmatrix}\n",
    "1 - \\frac{2L_2}{R_3} & 2L_2 - \\frac{2L_2^2}{R_3} \\\\\n",
    "-\\frac{2}{R_3} & 1 - \\frac{2L_2}{R_3}\n",
    "\\end{bmatrix}\n",
    "$$\n",
    "\n",
    "---\n",
    "\n",
    "### Stability Condition\n",
    "\n",
    "The cavity is **stable** if the eigenvalues of $$ M_{\\text{rt}} $$ are complex conjugates of unit magnitude. The condition is:\n",
    "\n",
    "$$\n",
    "\\left| \\frac{A + D}{2} \\right| < 1\n",
    "$$\n",
    "\n",
    "For this matrix:\n",
    "\n",
    "$$\n",
    "A = D = 1 - \\frac{2L_2}{R_3}\n",
    "\\quad \\Rightarrow \\quad\n",
    "\\left|1 - \\frac{2L_2}{R_3}\\right| < 1\n",
    "$$\n",
    "\n",
    "Solving:\n",
    "\n",
    "$$\n",
    "0 < L_2 < R_3\n",
    "$$\n",
    "\n",
    "---\n",
    "\n",
    "### Gaussian Beam Eigenmode\n",
    "\n",
    "We assume the cavity supports a Gaussian eigenmode with beam waist located at the **flat mirror** (M2). The complex beam parameter at the waist is:\n",
    "\n",
    "$$\n",
    "\\tilde{q}_0 = i z_R\n",
    "\\quad \\text{where} \\quad\n",
    "z_R = \\sqrt{L_2(R_3 - L_2)}\n",
    "$$\n",
    "\n",
    "The **waist size** is:\n",
    "\n",
    "$$\n",
    "w_0 = \\sqrt{ \\frac{\\lambda}{\\pi} \\cdot z_R }\n",
    "= \\sqrt{ \\frac{\\lambda}{\\pi} \\cdot \\sqrt{L_2(R_3 - L_2)} }\n",
    "$$\n",
    "\n",
    "The beam radius at the curved mirror (M3) is:\n",
    "\n",
    "$$\n",
    "w(L_2) = w_0 \\cdot \\sqrt{1 + \\left( \\frac{L_2}{z_R} \\right)^2 }\n",
    "$$\n",
    "\n",
    "And the **wavefront radius** at M3 is:\n",
    "\n",
    "$$\n",
    "R(L_2) = L_2 \\left( 1 + \\left( \\frac{z_R}{L_2} \\right)^2 \\right) = R_3\n",
    "$$\n",
    "\n",
    "---"
   ]
  },
  {
   "cell_type": "markdown",
   "id": "582bfa8d",
   "metadata": {},
   "source": [
    "## Cavity Waist for a Plano-Concave Fabry–Pérot Cavity\n",
    "\n",
    "Consider a plano-concave cavity with:\n",
    "\n",
    "- Flat mirror at \\( z = 0 \\)\n",
    "- Concave mirror at \\( z = L \\), with radius of curvature \\( R \\)\n",
    "- Laser wavelength 1064 nm\n",
    "\n",
    "### 1. Stability Condition\n",
    "\n",
    "$$\n",
    "0 < L < R\n",
    "$$\n",
    "\n",
    "### 2. Rayleigh Range \\( z_R \\)\n",
    "\n",
    "The cavity eigenmode has its waist at the flat mirror:\n",
    "\n",
    "$$\n",
    "z_R = \\sqrt{L(R - L)}\n",
    "$$\n",
    "\n",
    "### 3. Waist Size \\( w_0 \\)\n",
    "\n",
    "$$\n",
    "w_0 = \\sqrt{ \\frac{\\lambda}{\\pi} z_R }\n",
    "= \\sqrt{ \\frac{\\lambda}{\\pi} \\sqrt{L(R - L)} }\n",
    "$$\n",
    "\n",
    "### 4. Beam Radius at Curved Mirror\n",
    "\n",
    "$$\n",
    "w(L) = w_0 \\sqrt{1 + \\left( \\frac{L}{z_R} \\right)^2 }\n",
    "$$\n",
    "\n",
    "\n"
   ]
  },
  {
   "cell_type": "code",
   "execution_count": 17,
   "id": "0303d2d7",
   "metadata": {},
   "outputs": [],
   "source": [
    "def cavity_waist(lambda0, L2, Rc):\n",
    "    \"\"\"\n",
    "    Calculate the waist size (w0) and Rayleigh range (zR) of a plano-concave optical cavity.\n",
    "    \n",
    "    Parameters:\n",
    "    lambda0 : float\n",
    "        Laser wavelength in meters.\n",
    "    L2 : float\n",
    "        Cavity length in meters (distance between flat and curved mirror).\n",
    "    Rc : float\n",
    "        Radius of curvature of the concave mirror in meters.\n",
    "    \n",
    "    Returns:\n",
    "    w0 : float\n",
    "        Beam waist size in meters (at the flat mirror).\n",
    "    zR : float\n",
    "        Rayleigh range in meters.\n",
    "    \"\"\"\n",
    "    if L2 <= 0 or Rc <= L2:\n",
    "        raise ValueError(\"Cavity must satisfy 0 < L < R for stability.\")\n",
    "    \n",
    "    zR = np.sqrt(L2 * (Rc - L2))\n",
    "    w0 = np.sqrt((lambda0 / np.pi) * zR)\n",
    "    \n",
    "    return w0, zR"
   ]
  },
  {
   "cell_type": "code",
   "execution_count": 18,
   "id": "480debd4",
   "metadata": {},
   "outputs": [],
   "source": [
    "def rayleigh_range(w, lamb):\n",
    "    return np.pi * w**2 / lamb\n",
    "\n",
    "def q_parameter(z, zR):\n",
    "    return z + 1j * zR\n",
    "\n",
    "def propagate_q(q_in, d1, f, d2):\n",
    "    # ABCD matrices\n",
    "    M1 = np.array([[1, d1], [0, 1]])\n",
    "    M2 = np.array([[1, 0], [-1/f, 1]])\n",
    "    M3 = np.array([[1, d2], [0, 1]])\n",
    "\n",
    "    M = M3 @ M2 @ M1\n",
    "    A, B, C, D = M[0, 0], M[0, 1], M[1, 0], M[1, 1]\n",
    "\n",
    "    return (A * q_in + B) / (C * q_in + D)\n",
    "\n",
    "def match_quality(q_out, zR_target):\n",
    "    q_target = 1j * zR_target\n",
    "    return abs((q_out - q_target) / q_target)\n",
    "\n",
    "def collimated_beam_diameter(f,mfd,lamb):\n",
    "    return 4*f*lamb/(np.pi * mfd)\n"
   ]
  },
  {
   "cell_type": "code",
   "execution_count": 19,
   "id": "077e47bb",
   "metadata": {},
   "outputs": [],
   "source": [
    "# Input laser parameters\n",
    "lambda0 = 1064e-9  # laser wavelength in meters\n",
    "w_in = 0.5e-3      # input waist in meters, dependent on laser specs\n",
    "\n",
    "# Cavity parameters\n",
    "Rc = 0.750*2           # ROC of back concave mirror in meters\n",
    "#L2 = 1.1530612244897958         # large cavity length in meters\n",
    "L2 = 0.78571\n",
    "# Target cavity mode\n",
    "w_target, zR_target = cavity_waist(lambda0, L2, Rc) \n"
   ]
  },
  {
   "cell_type": "code",
   "execution_count": 20,
   "id": "a1460e57",
   "metadata": {},
   "outputs": [
    {
     "name": "stdout",
     "output_type": "stream",
     "text": [
      "Target cavity waist: 503.709 microns, zR_target: 0.7491493815655192\n"
     ]
    }
   ],
   "source": [
    "print(f\"Target cavity waist: {w_target*1e6:0.3f} microns, zR_target: {zR_target}\")"
   ]
  },
  {
   "cell_type": "code",
   "execution_count": 21,
   "id": "40674c50",
   "metadata": {},
   "outputs": [
    {
     "name": "stdout",
     "output_type": "stream",
     "text": [
      "Collimated beam diameter after aspheric lens with f = 2.0 mm: 437.00866954781077 microns\n"
     ]
    }
   ],
   "source": [
    "# Collimated beam diameter after aspheric lens\n",
    "f = 2e-3\n",
    "mfd = 6.2e-6 # MFD of FC/APC Single Mode Patch Cables\n",
    "\n",
    "cbd = collimated_beam_diameter(f,mfd,lambda0)\n",
    "print(f\"Collimated beam diameter after aspheric lens with f = {f*1e3} mm: {cbd*1e6} microns\")"
   ]
  },
  {
   "cell_type": "code",
   "execution_count": 24,
   "id": "8640d752",
   "metadata": {},
   "outputs": [],
   "source": [
    "# Input beam parameters\n",
    "zR_in = rayleigh_range(w_in, lambda0)\n",
    "q_in = q_parameter(0, zR_in)  # waist at z = 0\n",
    "\n",
    "# Sweep lens focal lengths and positions\n",
    "focal_lengths = np.linspace(600e-3, 2000e-3, 100)\n",
    "d1 = 0.1  # distance from laser waist to lens (fixed)\n",
    "d2 = L2  # distance from lens to cavity waist (fixed)"
   ]
  },
  {
   "cell_type": "code",
   "execution_count": 26,
   "id": "0e84b295",
   "metadata": {},
   "outputs": [
    {
     "name": "stdout",
     "output_type": "stream",
     "text": [
      "Min_mismatch = 0.659455548896178\n"
     ]
    },
    {
     "data": {
      "image/png": "[encoded data removed]",
      "text/plain": [
       "<Figure size 1000x500 with 1 Axes>"
      ]
     },
     "metadata": {},
     "output_type": "display_data"
    },
    {
     "data": {
      "text/plain": [
       "0.9818181818181817"
      ]
     },
     "execution_count": 26,
     "metadata": {},
     "output_type": "execute_result"
    }
   ],
   "source": [
    "best_match = None\n",
    "min_mismatch = float('inf')\n",
    "\n",
    "mismatch_data = []\n",
    "\n",
    "for f in focal_lengths:\n",
    "    q_out = propagate_q(q_in, d1, f, d2)\n",
    "    mismatch = match_quality(q_out, zR_target)\n",
    "    mismatch_data.append(mismatch)\n",
    "    if mismatch < min_mismatch:\n",
    "        min_mismatch = mismatch\n",
    "        best_match = f\n",
    "print(f\"Min_mismatch = {min_mismatch}\")\n",
    "# Plot match quality\n",
    "plt.figure(figsize=(10, 5))\n",
    "plt.plot(focal_lengths * 1e3, mismatch_data)\n",
    "plt.xlabel(\"Lens focal length (mm)\")\n",
    "plt.ylabel(\"Mismatch to cavity mode\")\n",
    "plt.title(\"Mode Matching Mismatch vs. Lens Focal Length\")\n",
    "plt.grid(True)\n",
    "plt.show()\n",
    "\n",
    "best_match"
   ]
  },
  {
   "cell_type": "code",
   "execution_count": null,
   "id": "0553faff",
   "metadata": {},
   "outputs": [],
   "source": [
    "import numpy as np\n",
    "# ---------- Core Gaussian utilities ----------\n",
    "def w_of_z(w0, z, lam):\n",
    "    zR = np.pi*w0**2/lam\n",
    "    return w0*np.sqrt(1 + (z/zR)**2)\n",
    "\n",
    "def q_from_wR(w, R, lam):\n",
    "    # Build q from width and wavefront radius at a plane\n",
    "    # 1/q = 1/R - i*lam/(pi w^2)\n",
    "    invq = (0 if np.isinf(R) else 1/R) - 1j*lam/(np.pi*w**2)\n",
    "    return 1/invq\n",
    "\n",
    "def wR_from_q(q, lam):\n",
    "    invq = 1/q\n",
    "    R = np.inf if np.isclose(invq.real, 0.0) else 1/invq.real\n",
    "    w = np.sqrt(-lam/(np.pi*invq.imag))\n",
    "    return w, R\n",
    "\n",
    "def propagate_q_free(q, L):\n",
    "    # ABCD of free space: [[1, L],[0,1]]\n",
    "    return q + L\n",
    "\n",
    "def overlap_eta(w1, R1, w2, R2, lam):\n",
    "    term_w = (w1/w2 + w2/w1)**2\n",
    "    term_R = ((np.pi*w1*w2/lam)*( (0 if np.isinf(R1) else 1/R1) - (0 if np.isinf(R2) else 1/R2) ))**2\n",
    "    return 4.0/(term_w + term_R)\n",
    "\n",
    "# ---------- Examples you can tailor to your variables ----------\n",
    "lam = 1064e-9      # wavelength [m]\n",
    "L2  = 0.78571        # concave distance from waist [m] (example)\n",
    "w0  = w_target        # intracavity waist at flat mirror [m] (example)\n",
    "\n",
    "# 3) q at mirrors and transmitted beam parameters\n",
    "# q at waist (z=0 inside): q = i zR\n",
    "zR = np.pi*w0**2/lam\n",
    "q_waist = 1j*zR\n",
    "q_concave_in = propagate_q_free(q_waist, L2)  # just inside concave mirror\n",
    "\n",
    "# Immediately outside the mirror, set z=0 at surface:\n",
    "# For thin mirror, take the same q as a starting plane in air\n",
    "q_out0 = q_concave_in\n",
    "w0_ext, R0_ext = wR_from_q(q_out0, lam)  # beam width and wavefront radius at the mirror surface (outside)\n",
    "# External waist size/position:\n",
    "z0_ext = -np.real(q_out0)                 # waist location relative to the surface (z positive going forward)\n",
    "w_ext_waist = np.sqrt(lam*np.imag(q_out0)/np.pi)\n",
    "\n",
    "# 4) Mode matching at the input (example: compare your designed input beam vs cavity mode at input plane)\n",
    "# Suppose your launched beam at the flat mirror has (w_in, R_in)\n",
    "w_in = 0.0055\n",
    "R_in = np.inf  # nearly collimated at the input plane, for example\n",
    "# Cavity mode at the same plane (flat mirror): w = w0, R = ∞\n",
    "eta = overlap_eta(w_in, R_in, w_flat, np.inf, lam)\n"
   ]
  },
  {
   "cell_type": "code",
   "execution_count": 33,
   "id": "7780403d",
   "metadata": {},
   "outputs": [
    {
     "name": "stdout",
     "output_type": "stream",
     "text": [
      "w_flat=0.0005037094403137065,w_concave=0.0007299421371966874\n"
     ]
    }
   ],
   "source": [
    "\n",
    "# 1) Intracavity mirror spots\n",
    "w_flat = w_of_z(w0, 0.0, lam)\n",
    "w_concave = w_of_z(w0, L2, lam)\n",
    "print(f\"{w_flat=},{w_concave=}\")"
   ]
  },
  {
   "cell_type": "code",
   "execution_count": 29,
   "id": "d1559c4c",
   "metadata": {},
   "outputs": [
    {
     "data": {
      "text/plain": [
       "Text(0.5, 1.0, 'Axial profile')"
      ]
     },
     "execution_count": 29,
     "metadata": {},
     "output_type": "execute_result"
    },
    {
     "data": {
      "image/png": "[encoded data removed]",
      "text/plain": [
       "<Figure size 640x480 with 1 Axes>"
      ]
     },
     "metadata": {},
     "output_type": "display_data"
    }
   ],
   "source": [
    "# 2) Axial profile for plotting\n",
    "z = np.linspace(-5, L2+5, 600)   # 5 m before waist to 5 m past concave, adjust as needed\n",
    "wz = w_of_z(w0, z, lam)\n",
    "plt.plot(z,wz)\n",
    "plt.title(\"Axial profile\")"
   ]
  },
  {
   "cell_type": "code",
   "execution_count": null,
   "id": "95ddfa55",
   "metadata": {},
   "outputs": [],
   "source": []
  }
 ],
 "metadata": {
  "kernelspec": {
   "display_name": "base",
   "language": "python",
   "name": "python3"
  },
  "language_info": {
   "codemirror_mode": {
    "name": "ipython",
    "version": 3
   },
   "file_extension": ".py",
   "mimetype": "text/x-python",
   "name": "python",
   "nbconvert_exporter": "python",
   "pygments_lexer": "ipython3",
   "version": "3.11.7"
  }
 },
 "nbformat": 4,
 "nbformat_minor": 5
}
